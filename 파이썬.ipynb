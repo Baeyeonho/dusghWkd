{
  "nbformat": 4,
  "nbformat_minor": 0,
  "metadata": {
    "colab": {
      "name": "파이썬.ipynb",
      "provenance": [],
      "collapsed_sections": [],
      "authorship_tag": "ABX9TyMjVmNi9jOxUz8Ynf36o2Ah",
      "include_colab_link": true
    },
    "kernelspec": {
      "name": "python3",
      "display_name": "Python 3"
    },
    "language_info": {
      "name": "python"
    }
  },
  "cells": [
    {
      "cell_type": "markdown",
      "metadata": {
        "id": "view-in-github",
        "colab_type": "text"
      },
      "source": [
        "<a href=\"https://colab.research.google.com/github/Baeyeonho/dusghWkd/blob/main/%ED%8C%8C%EC%9D%B4%EC%8D%AC.ipynb\" target=\"_parent\"><img src=\"https://colab.research.google.com/assets/colab-badge.svg\" alt=\"Open In Colab\"/></a>"
      ]
    },
    {
      "cell_type": "code",
      "execution_count": null,
      "metadata": {
        "colab": {
          "base_uri": "https://localhost:8080/"
        },
        "id": "GATgHVHj8l-h",
        "outputId": "36b41557-f822-4772-8366-91f498c656e7"
      },
      "outputs": [
        {
          "output_type": "stream",
          "name": "stdout",
          "text": [
            "3\n",
            "int64\n",
            "3\n"
          ]
        }
      ],
      "source": [
        "import numpy as np\n",
        "array = np.array([1, 2, 3])\n",
        "print(array.size)\n",
        "print(array.dtype)"
      ]
    },
    {
      "cell_type": "code",
      "source": [
        "import numpy as np\n",
        "\n",
        "array1 = np.arange(4)\n",
        "print(array1)\n",
        "\n",
        "array2 = np.zeros((4, 4), dtype=float)\n",
        "print(array2)\n",
        "\n",
        "array3 = np.ones((3, 3), dtype=str)\n",
        "print(array3)\n",
        "\n",
        "array4 = np.random.randint(0, 10, (3, 3))\n",
        "print(array4)\n",
        "\n",
        "array5 = np.random.normal(0, 1, (3, 3))\n",
        "print(array5)"
      ],
      "metadata": {
        "colab": {
          "base_uri": "https://localhost:8080/"
        },
        "id": "ywCjBBwjD_jB",
        "outputId": "970b0404-0a54-4377-997b-1d8a6c3e54f5"
      },
      "execution_count": null,
      "outputs": [
        {
          "output_type": "stream",
          "name": "stdout",
          "text": [
            "[0 1 2 3]\n",
            "[[0. 0. 0. 0.]\n",
            " [0. 0. 0. 0.]\n",
            " [0. 0. 0. 0.]\n",
            " [0. 0. 0. 0.]]\n",
            "[['1' '1' '1']\n",
            " ['1' '1' '1']\n",
            " ['1' '1' '1']]\n",
            "[[3 4 5]\n",
            " [9 1 7]\n",
            " [8 4 2]]\n",
            "[[ 0.61141919  1.61706913  0.60078824]\n",
            " [-0.78747579  1.27965594  0.3065278 ]\n",
            " [ 1.16959286  2.23342212 -0.61979551]]\n"
          ]
        }
      ]
    },
    {
      "cell_type": "code",
      "source": [
        "import numpy as np\n",
        "\n",
        "array1 = np.array([1, 2, 3]) \n",
        "array2 = np.array([4, 5, 6])\n",
        "array3 = np.concatenate([array1, array2])\n",
        "\n",
        "print(array3.shape)\n",
        "print(array3)"
      ],
      "metadata": {
        "colab": {
          "base_uri": "https://localhost:8080/"
        },
        "id": "jf9cRIDaEHuX",
        "outputId": "45c493c6-c1a7-49e3-bc92-50a8d4bc6b61"
      },
      "execution_count": null,
      "outputs": [
        {
          "output_type": "stream",
          "name": "stdout",
          "text": [
            "(6,)\n",
            "[1 2 3 4 5 6]\n"
          ]
        }
      ]
    },
    {
      "cell_type": "code",
      "source": [
        "import numpy as np\n",
        "\n",
        "array1 = np.arange(4).reshape(1, 4)\n",
        "array2 = np.arange(8).reshape(2, 4)\n",
        "array3 = np.concatenate([array1, array2], axis=0)\n",
        "\n",
        "print(array3.shape)\n",
        "print(array3)"
      ],
      "metadata": {
        "colab": {
          "base_uri": "https://localhost:8080/"
        },
        "id": "MXp4Q5UDEKOw",
        "outputId": "7298cc4d-2252-4c78-d5bc-ffed16706094"
      },
      "execution_count": null,
      "outputs": [
        {
          "output_type": "stream",
          "name": "stdout",
          "text": [
            "(3, 4)\n",
            "[[0 1 2 3]\n",
            " [0 1 2 3]\n",
            " [4 5 6 7]]\n"
          ]
        }
      ]
    },
    {
      "cell_type": "code",
      "source": [
        "import numpy as np\n",
        "\n",
        "array = np.arange(8).reshape(2, 4)\n",
        "left, right = np.split(array, [2], axis=1)\n",
        "\n",
        "print(left.shape)\n",
        "print(right.shape)\n",
        "print(right[1][1])"
      ],
      "metadata": {
        "colab": {
          "base_uri": "https://localhost:8080/"
        },
        "id": "JuwkfejLELup",
        "outputId": "78ec51f5-d6a2-4710-9e34-4c9dc760aa27"
      },
      "execution_count": null,
      "outputs": [
        {
          "output_type": "stream",
          "name": "stdout",
          "text": [
            "(2, 2)\n",
            "(2, 2)\n",
            "7\n"
          ]
        }
      ]
    },
    {
      "cell_type": "code",
      "source": [
        "import numpy as np\n",
        "\n",
        "array = np.random.randint(1, 10, size=4).reshape(2, 2)\n",
        "result_array = array * 10\n",
        "print(result_array)"
      ],
      "metadata": {
        "colab": {
          "base_uri": "https://localhost:8080/"
        },
        "id": "k9ldI4_cENWY",
        "outputId": "9fba219d-4a9b-41c8-9871-f8567cf3b44f"
      },
      "execution_count": null,
      "outputs": [
        {
          "output_type": "stream",
          "name": "stdout",
          "text": [
            "[[30 70]\n",
            " [60 30]]\n"
          ]
        }
      ]
    },
    {
      "cell_type": "code",
      "source": [
        "import numpy as np\n",
        "\n",
        "array1 = np.arange(4).reshape(2, 2)\n",
        "array2 = np.arange(2)\n",
        "array3 = array1 + array2\n",
        "\n",
        "print(array3)"
      ],
      "metadata": {
        "colab": {
          "base_uri": "https://localhost:8080/"
        },
        "id": "xLRpIUuJEXr_",
        "outputId": "15a2355b-d07a-4d4f-c6cf-f9f38f57a473"
      },
      "execution_count": null,
      "outputs": [
        {
          "output_type": "stream",
          "name": "stdout",
          "text": [
            "[[0 2]\n",
            " [2 4]]\n"
          ]
        }
      ]
    },
    {
      "cell_type": "code",
      "source": [
        "import numpy as np\n",
        "\n",
        "array1 = np.arange(0, 8).reshape(2, 4)\n",
        "array2 = np.arange(0, 8).reshape(2, 4)\n",
        "array3 = np.concatenate([array1, array2], axis=0)\n",
        "array4 = np.arange(0, 4).reshape(4, 1)\n",
        "\n",
        "print(array3 + array4)"
      ],
      "metadata": {
        "colab": {
          "base_uri": "https://localhost:8080/"
        },
        "id": "a3Fnag-ZEYz4",
        "outputId": "85659352-be0a-407c-db74-c16557113df4"
      },
      "execution_count": null,
      "outputs": [
        {
          "output_type": "stream",
          "name": "stdout",
          "text": [
            "[[ 0  1  2  3]\n",
            " [ 5  6  7  8]\n",
            " [ 2  3  4  5]\n",
            " [ 7  8  9 10]]\n"
          ]
        }
      ]
    },
    {
      "cell_type": "code",
      "source": [
        "import numpy as np\n",
        "\n",
        "array1 = np.arange(16).reshape(4, 4)\n",
        "print(array1)\n",
        "\n",
        "array2 = array1 < 10\n",
        "print(array2)\n",
        "\n",
        "array1[array2] = 100\n",
        "print(array1)"
      ],
      "metadata": {
        "colab": {
          "base_uri": "https://localhost:8080/"
        },
        "id": "OKWNA401EaBQ",
        "outputId": "f27f41cf-16f8-48a4-8597-66b0a76792f2"
      },
      "execution_count": null,
      "outputs": [
        {
          "output_type": "stream",
          "name": "stdout",
          "text": [
            "[[ 0  1  2  3]\n",
            " [ 4  5  6  7]\n",
            " [ 8  9 10 11]\n",
            " [12 13 14 15]]\n",
            "[[ True  True  True  True]\n",
            " [ True  True  True  True]\n",
            " [ True  True False False]\n",
            " [False False False False]]\n",
            "[[100 100 100 100]\n",
            " [100 100 100 100]\n",
            " [100 100  10  11]\n",
            " [ 12  13  14  15]]\n"
          ]
        }
      ]
    },
    {
      "cell_type": "code",
      "source": [
        "import numpy as np\n",
        "\n",
        "array = np.arange(16).reshape(4, 4)\n",
        "\n",
        "print(\"최대값:\", np.max(array))\n",
        "print(\"최소값:\", np.min(array))\n",
        "print(\"합계:\", np.sum(array))\n",
        "print(\"평균값:\", np.mean(array))"
      ],
      "metadata": {
        "colab": {
          "base_uri": "https://localhost:8080/"
        },
        "id": "5LS7meL_EcqP",
        "outputId": "29663476-0d5e-453a-f9ef-09bb7f8c8e8f"
      },
      "execution_count": null,
      "outputs": [
        {
          "output_type": "stream",
          "name": "stdout",
          "text": [
            "최대값: 15\n",
            "최소값: 0\n",
            "합계: 120\n",
            "평균값: 7.5\n"
          ]
        }
      ]
    },
    {
      "cell_type": "code",
      "source": [
        "import numpy as np\n",
        "\n",
        "array = np.arange(16).reshape(4, 4)\n",
        "\n",
        "print(array)\n",
        "print(\"합계:\", np.sum(array, axis=0))"
      ],
      "metadata": {
        "colab": {
          "base_uri": "https://localhost:8080/"
        },
        "id": "h5Aa7KYDEeX4",
        "outputId": "ae69eaf4-b577-4495-f3e4-c17fa697b192"
      },
      "execution_count": null,
      "outputs": [
        {
          "output_type": "stream",
          "name": "stdout",
          "text": [
            "[[ 0  1  2  3]\n",
            " [ 4  5  6  7]\n",
            " [ 8  9 10 11]\n",
            " [12 13 14 15]]\n",
            "합계: [24 28 32 36]\n"
          ]
        }
      ]
    },
    {
      "cell_type": "code",
      "source": [
        "import numpy as np\n",
        "\n",
        "array = np.arange(0, 10)\n",
        "np.save('saved.npy', array)\n",
        "\n",
        "result = np.load('saved.npy')\n",
        "print(result)"
      ],
      "metadata": {
        "colab": {
          "base_uri": "https://localhost:8080/"
        },
        "id": "LM3EZlt_Efrv",
        "outputId": "cfcc5509-38cc-46ce-bc71-987bd4328665"
      },
      "execution_count": null,
      "outputs": [
        {
          "output_type": "stream",
          "name": "stdout",
          "text": [
            "[0 1 2 3 4 5 6 7 8 9]\n"
          ]
        }
      ]
    },
    {
      "cell_type": "code",
      "source": [
        "import numpy as np\n",
        "\n",
        "array1 = np.arange(0, 10)\n",
        "array2 = np.arange(10, 20)\n",
        "np.savez('saved.npz', array1=array1, array2=array2)\n",
        "\n",
        "data = np.load('saved.npz')\n",
        "result1 = data['array1']\n",
        "result2 = data['array2']\n",
        "print(result1)\n",
        "print(result2)"
      ],
      "metadata": {
        "colab": {
          "base_uri": "https://localhost:8080/"
        },
        "id": "bH2xzN2xEthY",
        "outputId": "e91b883f-9d91-4b49-fe9f-a8691ce84a75"
      },
      "execution_count": null,
      "outputs": [
        {
          "output_type": "stream",
          "name": "stdout",
          "text": [
            "[0 1 2 3 4 5 6 7 8 9]\n",
            "[10 11 12 13 14 15 16 17 18 19]\n"
          ]
        }
      ]
    },
    {
      "cell_type": "code",
      "source": [
        "import numpy as np\n",
        "\n",
        "array = np.array([5, 9, 10, 3, 1])\n",
        "array.sort()\n",
        "print(array)\n",
        "\n",
        "array = np.array([5, 9, 10, 3, 1])\n",
        "array.sort()\n",
        "print(array[::-1])\n",
        "\n",
        "array = np.array([[5, 9, 10, 3, 1], [8, 3, 4, 2, 5]])\n",
        "array.sort(axis=0)\n",
        "print(array)"
      ],
      "metadata": {
        "colab": {
          "base_uri": "https://localhost:8080/"
        },
        "id": "ofH0kByyEw2h",
        "outputId": "d6c2a528-e45e-4d3e-8801-40a262f7b558"
      },
      "execution_count": null,
      "outputs": [
        {
          "output_type": "stream",
          "name": "stdout",
          "text": [
            "[ 1  3  5  9 10]\n",
            "[10  9  5  3  1]\n",
            "[[ 5  3  4  2  1]\n",
            " [ 8  9 10  3  5]]\n"
          ]
        }
      ]
    },
    {
      "cell_type": "code",
      "source": [
        "import numpy as np\n",
        "\n",
        "array = np.linspace(0, 10, 5)\n",
        "print(array)\n",
        "\n",
        "np.random.seed(7)\n",
        "print(np.random.randint(0, 10, (2, 3)))\n",
        "\n",
        "array1 = np.arange(0, 10)\n",
        "array2 = array1.copy()\n",
        "print(array2)\n",
        "\n",
        "array = np.array([1, 1, 2, 3, 3, 3, 1])\n",
        "print(np.unique(array))"
      ],
      "metadata": {
        "id": "wdyRtIy-E0Do"
      },
      "execution_count": null,
      "outputs": []
    }
  ]
}